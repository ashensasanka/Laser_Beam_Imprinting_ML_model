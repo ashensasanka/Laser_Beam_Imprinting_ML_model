{
 "cells": [
  {
   "cell_type": "code",
   "execution_count": 1,
   "metadata": {},
   "outputs": [],
   "source": [
    "import pandas as pd\n",
    "import numpy as np\n",
    "import seaborn as sns\n",
    "from tensorflow import keras"
   ]
  },
  {
   "cell_type": "code",
   "execution_count": 2,
   "metadata": {},
   "outputs": [
    {
     "data": {
      "text/html": [
       "<div>\n",
       "<style scoped>\n",
       "    .dataframe tbody tr th:only-of-type {\n",
       "        vertical-align: middle;\n",
       "    }\n",
       "\n",
       "    .dataframe tbody tr th {\n",
       "        vertical-align: top;\n",
       "    }\n",
       "\n",
       "    .dataframe thead th {\n",
       "        text-align: right;\n",
       "    }\n",
       "</style>\n",
       "<table border=\"1\" class=\"dataframe\">\n",
       "  <thead>\n",
       "    <tr style=\"text-align: right;\">\n",
       "      <th></th>\n",
       "      <th>id</th>\n",
       "      <th>incoming_wavefront_x</th>\n",
       "      <th>incoming_wavefront_y</th>\n",
       "      <th>output_x</th>\n",
       "      <th>output_y</th>\n",
       "      <th>avg_rms_error</th>\n",
       "    </tr>\n",
       "  </thead>\n",
       "  <tbody>\n",
       "    <tr>\n",
       "      <th>0</th>\n",
       "      <td>1</td>\n",
       "      <td>-0.97708</td>\n",
       "      <td>0.03072</td>\n",
       "      <td>0.00167</td>\n",
       "      <td>0.000011</td>\n",
       "      <td>0.045974</td>\n",
       "    </tr>\n",
       "    <tr>\n",
       "      <th>1</th>\n",
       "      <td>2</td>\n",
       "      <td>-0.97360</td>\n",
       "      <td>-0.06114</td>\n",
       "      <td>0.00370</td>\n",
       "      <td>0.000013</td>\n",
       "      <td>0.020102</td>\n",
       "    </tr>\n",
       "    <tr>\n",
       "      <th>2</th>\n",
       "      <td>3</td>\n",
       "      <td>-0.96199</td>\n",
       "      <td>-0.09952</td>\n",
       "      <td>0.00662</td>\n",
       "      <td>0.000006</td>\n",
       "      <td>0.032828</td>\n",
       "    </tr>\n",
       "    <tr>\n",
       "      <th>3</th>\n",
       "      <td>4</td>\n",
       "      <td>-0.95445</td>\n",
       "      <td>-0.03440</td>\n",
       "      <td>0.01025</td>\n",
       "      <td>0.000009</td>\n",
       "      <td>0.068953</td>\n",
       "    </tr>\n",
       "    <tr>\n",
       "      <th>4</th>\n",
       "      <td>5</td>\n",
       "      <td>-0.95445</td>\n",
       "      <td>0.10340</td>\n",
       "      <td>0.01564</td>\n",
       "      <td>0.000017</td>\n",
       "      <td>0.137871</td>\n",
       "    </tr>\n",
       "  </tbody>\n",
       "</table>\n",
       "</div>"
      ],
      "text/plain": [
       "   id  incoming_wavefront_x  incoming_wavefront_y  output_x  output_y  \\\n",
       "0   1              -0.97708               0.03072   0.00167  0.000011   \n",
       "1   2              -0.97360              -0.06114   0.00370  0.000013   \n",
       "2   3              -0.96199              -0.09952   0.00662  0.000006   \n",
       "3   4              -0.95445              -0.03440   0.01025  0.000009   \n",
       "4   5              -0.95445               0.10340   0.01564  0.000017   \n",
       "\n",
       "   avg_rms_error  \n",
       "0       0.045974  \n",
       "1       0.020102  \n",
       "2       0.032828  \n",
       "3       0.068953  \n",
       "4       0.137871  "
      ]
     },
     "execution_count": 2,
     "metadata": {},
     "output_type": "execute_result"
    }
   ],
   "source": [
    "df = pd.read_csv(\"./wavefront_reconstruction_with_artificial.csv\")\n",
    "df.head()"
   ]
  },
  {
   "cell_type": "code",
   "execution_count": 3,
   "metadata": {},
   "outputs": [
    {
     "data": {
      "text/plain": [
       "avg_rms_error\n",
       "0.246824    2\n",
       "0.283160    2\n",
       "0.045974    1\n",
       "0.325318    1\n",
       "0.041868    1\n",
       "           ..\n",
       "0.684931    1\n",
       "0.504976    1\n",
       "0.510791    1\n",
       "0.053546    1\n",
       "0.000023    1\n",
       "Name: count, Length: 1706, dtype: int64"
      ]
     },
     "execution_count": 3,
     "metadata": {},
     "output_type": "execute_result"
    }
   ],
   "source": [
    "df['avg_rms_error'].value_counts()"
   ]
  },
  {
   "cell_type": "code",
   "execution_count": 4,
   "metadata": {},
   "outputs": [
    {
     "data": {
      "text/html": [
       "<div>\n",
       "<style scoped>\n",
       "    .dataframe tbody tr th:only-of-type {\n",
       "        vertical-align: middle;\n",
       "    }\n",
       "\n",
       "    .dataframe tbody tr th {\n",
       "        vertical-align: top;\n",
       "    }\n",
       "\n",
       "    .dataframe thead th {\n",
       "        text-align: right;\n",
       "    }\n",
       "</style>\n",
       "<table border=\"1\" class=\"dataframe\">\n",
       "  <thead>\n",
       "    <tr style=\"text-align: right;\">\n",
       "      <th></th>\n",
       "      <th>id</th>\n",
       "      <th>incoming_wavefront_x</th>\n",
       "      <th>incoming_wavefront_y</th>\n",
       "      <th>output_x</th>\n",
       "      <th>output_y</th>\n",
       "      <th>avg_rms_error</th>\n",
       "    </tr>\n",
       "  </thead>\n",
       "  <tbody>\n",
       "    <tr>\n",
       "      <th>0</th>\n",
       "      <td>1</td>\n",
       "      <td>-0.97708</td>\n",
       "      <td>0.03072</td>\n",
       "      <td>0.00167</td>\n",
       "      <td>0.000011</td>\n",
       "      <td>271</td>\n",
       "    </tr>\n",
       "    <tr>\n",
       "      <th>1</th>\n",
       "      <td>2</td>\n",
       "      <td>-0.97360</td>\n",
       "      <td>-0.06114</td>\n",
       "      <td>0.00370</td>\n",
       "      <td>0.000013</td>\n",
       "      <td>118</td>\n",
       "    </tr>\n",
       "    <tr>\n",
       "      <th>2</th>\n",
       "      <td>3</td>\n",
       "      <td>-0.96199</td>\n",
       "      <td>-0.09952</td>\n",
       "      <td>0.00662</td>\n",
       "      <td>0.000006</td>\n",
       "      <td>196</td>\n",
       "    </tr>\n",
       "    <tr>\n",
       "      <th>3</th>\n",
       "      <td>4</td>\n",
       "      <td>-0.95445</td>\n",
       "      <td>-0.03440</td>\n",
       "      <td>0.01025</td>\n",
       "      <td>0.000009</td>\n",
       "      <td>400</td>\n",
       "    </tr>\n",
       "    <tr>\n",
       "      <th>4</th>\n",
       "      <td>5</td>\n",
       "      <td>-0.95445</td>\n",
       "      <td>0.10340</td>\n",
       "      <td>0.01564</td>\n",
       "      <td>0.000017</td>\n",
       "      <td>691</td>\n",
       "    </tr>\n",
       "  </tbody>\n",
       "</table>\n",
       "</div>"
      ],
      "text/plain": [
       "   id  incoming_wavefront_x  incoming_wavefront_y  output_x  output_y  \\\n",
       "0   1              -0.97708               0.03072   0.00167  0.000011   \n",
       "1   2              -0.97360              -0.06114   0.00370  0.000013   \n",
       "2   3              -0.96199              -0.09952   0.00662  0.000006   \n",
       "3   4              -0.95445              -0.03440   0.01025  0.000009   \n",
       "4   5              -0.95445               0.10340   0.01564  0.000017   \n",
       "\n",
       "   avg_rms_error  \n",
       "0            271  \n",
       "1            118  \n",
       "2            196  \n",
       "3            400  \n",
       "4            691  "
      ]
     },
     "execution_count": 4,
     "metadata": {},
     "output_type": "execute_result"
    }
   ],
   "source": [
    "from sklearn.preprocessing import LabelEncoder\n",
    "le = LabelEncoder()\n",
    "df['avg_rms_error'] = le.fit_transform(df['avg_rms_error'])\n",
    "df.head()"
   ]
  },
  {
   "cell_type": "code",
   "execution_count": 5,
   "metadata": {},
   "outputs": [],
   "source": [
    "affecting_parameter_name = le.classes_"
   ]
  },
  {
   "cell_type": "code",
   "execution_count": 6,
   "metadata": {},
   "outputs": [
    {
     "data": {
      "text/html": [
       "<div>\n",
       "<style scoped>\n",
       "    .dataframe tbody tr th:only-of-type {\n",
       "        vertical-align: middle;\n",
       "    }\n",
       "\n",
       "    .dataframe tbody tr th {\n",
       "        vertical-align: top;\n",
       "    }\n",
       "\n",
       "    .dataframe thead th {\n",
       "        text-align: right;\n",
       "    }\n",
       "</style>\n",
       "<table border=\"1\" class=\"dataframe\">\n",
       "  <thead>\n",
       "    <tr style=\"text-align: right;\">\n",
       "      <th></th>\n",
       "      <th>incoming_wavefront_x</th>\n",
       "      <th>incoming_wavefront_y</th>\n",
       "      <th>output_x</th>\n",
       "      <th>output_y</th>\n",
       "    </tr>\n",
       "  </thead>\n",
       "  <tbody>\n",
       "    <tr>\n",
       "      <th>0</th>\n",
       "      <td>-0.97708</td>\n",
       "      <td>0.03072</td>\n",
       "      <td>0.00167</td>\n",
       "      <td>0.000011</td>\n",
       "    </tr>\n",
       "    <tr>\n",
       "      <th>1</th>\n",
       "      <td>-0.97360</td>\n",
       "      <td>-0.06114</td>\n",
       "      <td>0.00370</td>\n",
       "      <td>0.000013</td>\n",
       "    </tr>\n",
       "    <tr>\n",
       "      <th>2</th>\n",
       "      <td>-0.96199</td>\n",
       "      <td>-0.09952</td>\n",
       "      <td>0.00662</td>\n",
       "      <td>0.000006</td>\n",
       "    </tr>\n",
       "  </tbody>\n",
       "</table>\n",
       "</div>"
      ],
      "text/plain": [
       "   incoming_wavefront_x  incoming_wavefront_y  output_x  output_y\n",
       "0              -0.97708               0.03072   0.00167  0.000011\n",
       "1              -0.97360              -0.06114   0.00370  0.000013\n",
       "2              -0.96199              -0.09952   0.00662  0.000006"
      ]
     },
     "execution_count": 6,
     "metadata": {},
     "output_type": "execute_result"
    }
   ],
   "source": [
    "X = df.drop(columns=['id', 'avg_rms_error'])\n",
    "y = df['avg_rms_error']\n",
    "X.head(3)"
   ]
  },
  {
   "cell_type": "code",
   "execution_count": 7,
   "metadata": {},
   "outputs": [],
   "source": [
    "from sklearn.model_selection import train_test_split\n",
    "x_train, x_test, y_train, y_test = train_test_split(X, y, test_size=0.3, shuffle=True, random_state=69)"
   ]
  },
  {
   "cell_type": "code",
   "execution_count": 9,
   "metadata": {},
   "outputs": [
    {
     "data": {
      "text/plain": [
       "(1195, 4)"
      ]
     },
     "execution_count": 9,
     "metadata": {},
     "output_type": "execute_result"
    }
   ],
   "source": [
    "x_train.shape"
   ]
  },
  {
   "cell_type": "code",
   "execution_count": 10,
   "metadata": {},
   "outputs": [
    {
     "name": "stdout",
     "output_type": "stream",
     "text": [
      "     incoming_wavefront_x  incoming_wavefront_y  output_x  output_y\n",
      "869              -0.08705               0.88368   0.02889  0.000026\n",
      "[[ 0.01135137  1.4877317  -1.10043548 -1.23662872]]\n",
      "[[-0.21264496  1.5532081  -0.21206042 -0.46202608]]\n"
     ]
    }
   ],
   "source": [
    "from sklearn.preprocessing import StandardScaler\n",
    "sc = StandardScaler()\n",
    "print(x_train[:1])\n",
    "x_train = sc.fit_transform(x_train)\n",
    "x_test = sc.transform(x_test)\n",
    "print(x_train[:1])\n",
    "print(x_test[:1])"
   ]
  },
  {
   "cell_type": "code",
   "execution_count": 12,
   "metadata": {},
   "outputs": [
    {
     "name": "stdout",
     "output_type": "stream",
     "text": [
      "[[0. 0. 0. ... 0. 0. 0.]\n",
      " [0. 0. 0. ... 0. 0. 0.]\n",
      " [0. 0. 0. ... 0. 0. 0.]\n",
      " [0. 0. 0. ... 0. 0. 0.]\n",
      " [0. 0. 0. ... 0. 0. 0.]]\n"
     ]
    }
   ],
   "source": [
    "y_train = keras.utils.to_categorical(y_train, num_classes=1706)\n",
    "print(y_train[:5])"
   ]
  },
  {
   "cell_type": "code",
   "execution_count": 13,
   "metadata": {},
   "outputs": [],
   "source": [
    "from keras.models import Sequential\n",
    "from keras.layers import Dense, Dropout"
   ]
  },
  {
   "cell_type": "code",
   "execution_count": 17,
   "metadata": {},
   "outputs": [],
   "source": [
    "model = Sequential()\n",
    "model.add(Dense(units=32, activation='relu', input_shape=(x_train.shape[-1], )))\n",
    "model.add(Dense(units=32, activation='relu'))\n",
    "model.add(Dropout(0.5))\n",
    "model.add(Dense(units=1706, activation='softmax'))"
   ]
  },
  {
   "cell_type": "code",
   "execution_count": 18,
   "metadata": {},
   "outputs": [
    {
     "name": "stdout",
     "output_type": "stream",
     "text": [
      "Model: \"sequential_1\"\n",
      "_________________________________________________________________\n",
      " Layer (type)                Output Shape              Param #   \n",
      "=================================================================\n",
      " dense_3 (Dense)             (None, 32)                160       \n",
      "                                                                 \n",
      " dense_4 (Dense)             (None, 32)                1056      \n",
      "                                                                 \n",
      " dropout_1 (Dropout)         (None, 32)                0         \n",
      "                                                                 \n",
      " dense_5 (Dense)             (None, 1706)              56298     \n",
      "                                                                 \n",
      "=================================================================\n",
      "Total params: 57514 (224.66 KB)\n",
      "Trainable params: 57514 (224.66 KB)\n",
      "Non-trainable params: 0 (0.00 Byte)\n",
      "_________________________________________________________________\n"
     ]
    }
   ],
   "source": [
    "model.compile(optimizer='Adam', loss='categorical_crossentropy', metrics=['accuracy'])\n",
    "model.summary()"
   ]
  },
  {
   "cell_type": "code",
   "execution_count": 19,
   "metadata": {},
   "outputs": [
    {
     "name": "stdout",
     "output_type": "stream",
     "text": [
      "Epoch 1/100\n",
      "38/38 - 1s - loss: 7.4579 - accuracy: 0.0000e+00 - 675ms/epoch - 18ms/step\n",
      "Epoch 2/100\n",
      "38/38 - 0s - loss: 7.3928 - accuracy: 0.0042 - 59ms/epoch - 2ms/step\n",
      "Epoch 3/100\n",
      "38/38 - 0s - loss: 7.2519 - accuracy: 0.0017 - 60ms/epoch - 2ms/step\n",
      "Epoch 4/100\n",
      "38/38 - 0s - loss: 6.9193 - accuracy: 0.0059 - 59ms/epoch - 2ms/step\n",
      "Epoch 5/100\n",
      "38/38 - 0s - loss: 6.4771 - accuracy: 0.0067 - 59ms/epoch - 2ms/step\n",
      "Epoch 6/100\n",
      "38/38 - 0s - loss: 6.1804 - accuracy: 0.0042 - 60ms/epoch - 2ms/step\n",
      "Epoch 7/100\n",
      "38/38 - 0s - loss: 5.9811 - accuracy: 0.0134 - 58ms/epoch - 2ms/step\n",
      "Epoch 8/100\n",
      "38/38 - 0s - loss: 5.7640 - accuracy: 0.0100 - 61ms/epoch - 2ms/step\n",
      "Epoch 9/100\n",
      "38/38 - 0s - loss: 5.6263 - accuracy: 0.0201 - 58ms/epoch - 2ms/step\n",
      "Epoch 10/100\n",
      "38/38 - 0s - loss: 5.5603 - accuracy: 0.0067 - 61ms/epoch - 2ms/step\n",
      "Epoch 11/100\n",
      "38/38 - 0s - loss: 5.4372 - accuracy: 0.0159 - 59ms/epoch - 2ms/step\n",
      "Epoch 12/100\n",
      "38/38 - 0s - loss: 5.4423 - accuracy: 0.0151 - 61ms/epoch - 2ms/step\n",
      "Epoch 13/100\n",
      "38/38 - 0s - loss: 5.3314 - accuracy: 0.0159 - 67ms/epoch - 2ms/step\n",
      "Epoch 14/100\n",
      "38/38 - 0s - loss: 5.2653 - accuracy: 0.0218 - 62ms/epoch - 2ms/step\n",
      "Epoch 15/100\n",
      "38/38 - 0s - loss: 5.1785 - accuracy: 0.0251 - 64ms/epoch - 2ms/step\n",
      "Epoch 16/100\n",
      "38/38 - 0s - loss: 5.1416 - accuracy: 0.0201 - 64ms/epoch - 2ms/step\n",
      "Epoch 17/100\n",
      "38/38 - 0s - loss: 5.1529 - accuracy: 0.0259 - 61ms/epoch - 2ms/step\n",
      "Epoch 18/100\n",
      "38/38 - 0s - loss: 5.0784 - accuracy: 0.0301 - 59ms/epoch - 2ms/step\n",
      "Epoch 19/100\n",
      "38/38 - 0s - loss: 5.0029 - accuracy: 0.0268 - 60ms/epoch - 2ms/step\n",
      "Epoch 20/100\n",
      "38/38 - 0s - loss: 5.0223 - accuracy: 0.0243 - 58ms/epoch - 2ms/step\n",
      "Epoch 21/100\n",
      "38/38 - 0s - loss: 4.9306 - accuracy: 0.0360 - 63ms/epoch - 2ms/step\n",
      "Epoch 22/100\n",
      "38/38 - 0s - loss: 4.8874 - accuracy: 0.0301 - 63ms/epoch - 2ms/step\n",
      "Epoch 23/100\n",
      "38/38 - 0s - loss: 4.9009 - accuracy: 0.0293 - 61ms/epoch - 2ms/step\n",
      "Epoch 24/100\n",
      "38/38 - 0s - loss: 4.8142 - accuracy: 0.0285 - 60ms/epoch - 2ms/step\n",
      "Epoch 25/100\n",
      "38/38 - 0s - loss: 4.8129 - accuracy: 0.0209 - 62ms/epoch - 2ms/step\n",
      "Epoch 26/100\n",
      "38/38 - 0s - loss: 4.7734 - accuracy: 0.0301 - 61ms/epoch - 2ms/step\n",
      "Epoch 27/100\n",
      "38/38 - 0s - loss: 4.7386 - accuracy: 0.0310 - 60ms/epoch - 2ms/step\n",
      "Epoch 28/100\n",
      "38/38 - 0s - loss: 4.6925 - accuracy: 0.0385 - 61ms/epoch - 2ms/step\n",
      "Epoch 29/100\n",
      "38/38 - 0s - loss: 4.6345 - accuracy: 0.0368 - 77ms/epoch - 2ms/step\n",
      "Epoch 30/100\n",
      "38/38 - 0s - loss: 4.6984 - accuracy: 0.0234 - 60ms/epoch - 2ms/step\n",
      "Epoch 31/100\n",
      "38/38 - 0s - loss: 4.5426 - accuracy: 0.0452 - 60ms/epoch - 2ms/step\n",
      "Epoch 32/100\n",
      "38/38 - 0s - loss: 4.6052 - accuracy: 0.0393 - 58ms/epoch - 2ms/step\n",
      "Epoch 33/100\n",
      "38/38 - 0s - loss: 4.6156 - accuracy: 0.0402 - 61ms/epoch - 2ms/step\n",
      "Epoch 34/100\n",
      "38/38 - 0s - loss: 4.5131 - accuracy: 0.0477 - 61ms/epoch - 2ms/step\n",
      "Epoch 35/100\n",
      "38/38 - 0s - loss: 4.5647 - accuracy: 0.0335 - 60ms/epoch - 2ms/step\n",
      "Epoch 36/100\n",
      "38/38 - 0s - loss: 4.5400 - accuracy: 0.0444 - 60ms/epoch - 2ms/step\n",
      "Epoch 37/100\n",
      "38/38 - 0s - loss: 4.4994 - accuracy: 0.0385 - 60ms/epoch - 2ms/step\n",
      "Epoch 38/100\n",
      "38/38 - 0s - loss: 4.4598 - accuracy: 0.0402 - 58ms/epoch - 2ms/step\n",
      "Epoch 39/100\n",
      "38/38 - 0s - loss: 4.4204 - accuracy: 0.0502 - 58ms/epoch - 2ms/step\n",
      "Epoch 40/100\n",
      "38/38 - 0s - loss: 4.3755 - accuracy: 0.0569 - 59ms/epoch - 2ms/step\n",
      "Epoch 41/100\n",
      "38/38 - 0s - loss: 4.3733 - accuracy: 0.0510 - 68ms/epoch - 2ms/step\n",
      "Epoch 42/100\n",
      "38/38 - 0s - loss: 4.3415 - accuracy: 0.0611 - 58ms/epoch - 2ms/step\n",
      "Epoch 43/100\n",
      "38/38 - 0s - loss: 4.3230 - accuracy: 0.0544 - 58ms/epoch - 2ms/step\n",
      "Epoch 44/100\n",
      "38/38 - 0s - loss: 4.3774 - accuracy: 0.0435 - 58ms/epoch - 2ms/step\n",
      "Epoch 45/100\n",
      "38/38 - 0s - loss: 4.3363 - accuracy: 0.0410 - 59ms/epoch - 2ms/step\n",
      "Epoch 46/100\n",
      "38/38 - 0s - loss: 4.2476 - accuracy: 0.0544 - 59ms/epoch - 2ms/step\n",
      "Epoch 47/100\n",
      "38/38 - 0s - loss: 4.2641 - accuracy: 0.0745 - 63ms/epoch - 2ms/step\n",
      "Epoch 48/100\n",
      "38/38 - 0s - loss: 4.2586 - accuracy: 0.0711 - 64ms/epoch - 2ms/step\n",
      "Epoch 49/100\n",
      "38/38 - 0s - loss: 4.2026 - accuracy: 0.0552 - 61ms/epoch - 2ms/step\n",
      "Epoch 50/100\n",
      "38/38 - 0s - loss: 4.2052 - accuracy: 0.0678 - 59ms/epoch - 2ms/step\n",
      "Epoch 51/100\n",
      "38/38 - 0s - loss: 4.1769 - accuracy: 0.0628 - 58ms/epoch - 2ms/step\n",
      "Epoch 52/100\n",
      "38/38 - 0s - loss: 4.2059 - accuracy: 0.0460 - 59ms/epoch - 2ms/step\n",
      "Epoch 53/100\n",
      "38/38 - 0s - loss: 4.1556 - accuracy: 0.0536 - 60ms/epoch - 2ms/step\n",
      "Epoch 54/100\n",
      "38/38 - 0s - loss: 4.1560 - accuracy: 0.0519 - 58ms/epoch - 2ms/step\n",
      "Epoch 55/100\n",
      "38/38 - 0s - loss: 4.1364 - accuracy: 0.0519 - 58ms/epoch - 2ms/step\n",
      "Epoch 56/100\n",
      "38/38 - 0s - loss: 4.1433 - accuracy: 0.0561 - 62ms/epoch - 2ms/step\n",
      "Epoch 57/100\n",
      "38/38 - 0s - loss: 4.0922 - accuracy: 0.0544 - 63ms/epoch - 2ms/step\n",
      "Epoch 58/100\n",
      "38/38 - 0s - loss: 4.0625 - accuracy: 0.0778 - 62ms/epoch - 2ms/step\n",
      "Epoch 59/100\n",
      "38/38 - 0s - loss: 4.1055 - accuracy: 0.0686 - 57ms/epoch - 2ms/step\n",
      "Epoch 60/100\n",
      "38/38 - 0s - loss: 4.0282 - accuracy: 0.0619 - 58ms/epoch - 2ms/step\n",
      "Epoch 61/100\n",
      "38/38 - 0s - loss: 4.0492 - accuracy: 0.0628 - 60ms/epoch - 2ms/step\n",
      "Epoch 62/100\n",
      "38/38 - 0s - loss: 4.0452 - accuracy: 0.0762 - 60ms/epoch - 2ms/step\n",
      "Epoch 63/100\n",
      "38/38 - 0s - loss: 4.0245 - accuracy: 0.0669 - 58ms/epoch - 2ms/step\n",
      "Epoch 64/100\n",
      "38/38 - 0s - loss: 3.9981 - accuracy: 0.0594 - 58ms/epoch - 2ms/step\n",
      "Epoch 65/100\n",
      "38/38 - 0s - loss: 3.9429 - accuracy: 0.0762 - 58ms/epoch - 2ms/step\n",
      "Epoch 66/100\n",
      "38/38 - 0s - loss: 3.9101 - accuracy: 0.0653 - 72ms/epoch - 2ms/step\n",
      "Epoch 67/100\n",
      "38/38 - 0s - loss: 3.9728 - accuracy: 0.0795 - 65ms/epoch - 2ms/step\n",
      "Epoch 68/100\n",
      "38/38 - 0s - loss: 3.9330 - accuracy: 0.0695 - 60ms/epoch - 2ms/step\n",
      "Epoch 69/100\n",
      "38/38 - 0s - loss: 3.9078 - accuracy: 0.0795 - 58ms/epoch - 2ms/step\n",
      "Epoch 70/100\n",
      "38/38 - 0s - loss: 3.9251 - accuracy: 0.0703 - 59ms/epoch - 2ms/step\n",
      "Epoch 71/100\n",
      "38/38 - 0s - loss: 3.8318 - accuracy: 0.0745 - 60ms/epoch - 2ms/step\n",
      "Epoch 72/100\n",
      "38/38 - 0s - loss: 3.8589 - accuracy: 0.0837 - 58ms/epoch - 2ms/step\n",
      "Epoch 73/100\n",
      "38/38 - 0s - loss: 3.8435 - accuracy: 0.0862 - 59ms/epoch - 2ms/step\n",
      "Epoch 74/100\n",
      "38/38 - 0s - loss: 3.8852 - accuracy: 0.0711 - 59ms/epoch - 2ms/step\n",
      "Epoch 75/100\n",
      "38/38 - 0s - loss: 3.8219 - accuracy: 0.0787 - 58ms/epoch - 2ms/step\n",
      "Epoch 76/100\n",
      "38/38 - 0s - loss: 3.8161 - accuracy: 0.0787 - 59ms/epoch - 2ms/step\n",
      "Epoch 77/100\n",
      "38/38 - 0s - loss: 3.7602 - accuracy: 0.0937 - 59ms/epoch - 2ms/step\n",
      "Epoch 78/100\n",
      "38/38 - 0s - loss: 3.8137 - accuracy: 0.0644 - 58ms/epoch - 2ms/step\n",
      "Epoch 79/100\n",
      "38/38 - 0s - loss: 3.7732 - accuracy: 0.1038 - 59ms/epoch - 2ms/step\n",
      "Epoch 80/100\n",
      "38/38 - 0s - loss: 3.7233 - accuracy: 0.0979 - 58ms/epoch - 2ms/step\n",
      "Epoch 81/100\n",
      "38/38 - 0s - loss: 3.7273 - accuracy: 0.0904 - 60ms/epoch - 2ms/step\n",
      "Epoch 82/100\n",
      "38/38 - 0s - loss: 3.7108 - accuracy: 0.0971 - 64ms/epoch - 2ms/step\n",
      "Epoch 83/100\n",
      "38/38 - 0s - loss: 3.6951 - accuracy: 0.1079 - 67ms/epoch - 2ms/step\n",
      "Epoch 84/100\n",
      "38/38 - 0s - loss: 3.7588 - accuracy: 0.0895 - 68ms/epoch - 2ms/step\n",
      "Epoch 85/100\n",
      "38/38 - 0s - loss: 3.7009 - accuracy: 0.0962 - 60ms/epoch - 2ms/step\n",
      "Epoch 86/100\n",
      "38/38 - 0s - loss: 3.6826 - accuracy: 0.1113 - 58ms/epoch - 2ms/step\n",
      "Epoch 87/100\n",
      "38/38 - 0s - loss: 3.7202 - accuracy: 0.0904 - 59ms/epoch - 2ms/step\n",
      "Epoch 88/100\n",
      "38/38 - 0s - loss: 3.6684 - accuracy: 0.0937 - 58ms/epoch - 2ms/step\n",
      "Epoch 89/100\n",
      "38/38 - 0s - loss: 3.6797 - accuracy: 0.0854 - 58ms/epoch - 2ms/step\n",
      "Epoch 90/100\n",
      "38/38 - 0s - loss: 3.6282 - accuracy: 0.1063 - 57ms/epoch - 1ms/step\n",
      "Epoch 91/100\n",
      "38/38 - 0s - loss: 3.6073 - accuracy: 0.0946 - 60ms/epoch - 2ms/step\n",
      "Epoch 92/100\n",
      "38/38 - 0s - loss: 3.5626 - accuracy: 0.1046 - 63ms/epoch - 2ms/step\n",
      "Epoch 93/100\n",
      "38/38 - 0s - loss: 3.5708 - accuracy: 0.0929 - 62ms/epoch - 2ms/step\n",
      "Epoch 94/100\n",
      "38/38 - 0s - loss: 3.5988 - accuracy: 0.0979 - 60ms/epoch - 2ms/step\n",
      "Epoch 95/100\n",
      "38/38 - 0s - loss: 3.5770 - accuracy: 0.1138 - 59ms/epoch - 2ms/step\n",
      "Epoch 96/100\n",
      "38/38 - 0s - loss: 3.5328 - accuracy: 0.1188 - 59ms/epoch - 2ms/step\n",
      "Epoch 97/100\n",
      "38/38 - 0s - loss: 3.5840 - accuracy: 0.1121 - 58ms/epoch - 2ms/step\n",
      "Epoch 98/100\n",
      "38/38 - 0s - loss: 3.5266 - accuracy: 0.1188 - 58ms/epoch - 2ms/step\n",
      "Epoch 99/100\n",
      "38/38 - 0s - loss: 3.5093 - accuracy: 0.1046 - 58ms/epoch - 2ms/step\n",
      "Epoch 100/100\n",
      "38/38 - 0s - loss: 3.4976 - accuracy: 0.1004 - 59ms/epoch - 2ms/step\n"
     ]
    },
    {
     "data": {
      "text/plain": [
       "<keras.src.callbacks.History at 0x2818cb95850>"
      ]
     },
     "execution_count": 19,
     "metadata": {},
     "output_type": "execute_result"
    }
   ],
   "source": [
    "model.fit(x_train, y_train, epochs=100, verbose=2)"
   ]
  },
  {
   "cell_type": "code",
   "execution_count": 20,
   "metadata": {},
   "outputs": [
    {
     "name": "stdout",
     "output_type": "stream",
     "text": [
      "17/17 [==============================] - 0s 1ms/step\n"
     ]
    }
   ],
   "source": [
    "prediction = model.predict(x_test)"
   ]
  },
  {
   "cell_type": "code",
   "execution_count": 22,
   "metadata": {},
   "outputs": [
    {
     "name": "stderr",
     "output_type": "stream",
     "text": [
      "c:\\Users\\ashen\\anaconda3\\envs\\detection\\lib\\site-packages\\keras\\src\\engine\\training.py:3079: UserWarning: You are saving your model as an HDF5 file via `model.save()`. This file format is considered legacy. We recommend using instead the native Keras format, e.g. `model.save('my_model.keras')`.\n",
      "  saving_api.save_model(\n"
     ]
    }
   ],
   "source": [
    "model.save('laser_beam_model.h5', model)"
   ]
  },
  {
   "cell_type": "code",
   "execution_count": 3,
   "metadata": {},
   "outputs": [
    {
     "name": "stdout",
     "output_type": "stream",
     "text": [
      "1/1 [==============================] - 0s 37ms/step\n",
      "Most Affecting Error: 13.247066456361724 %\n"
     ]
    },
    {
     "name": "stderr",
     "output_type": "stream",
     "text": [
      "C:\\Users\\ashen\\AppData\\Roaming\\Python\\Python39\\site-packages\\sklearn\\base.py:464: UserWarning: X does not have valid feature names, but StandardScaler was fitted with feature names\n",
      "  warnings.warn(\n"
     ]
    }
   ],
   "source": [
    "import pandas as pd\n",
    "import numpy as np\n",
    "import seaborn as sns\n",
    "from tensorflow import keras\n",
    "from keras.models import load_model\n",
    "df = pd.read_csv(\"./wavefront_reconstruction_with_artificial.csv\")\n",
    "from sklearn.preprocessing import LabelEncoder\n",
    "from sklearn.preprocessing import StandardScaler\n",
    "sc = StandardScaler()\n",
    "le = LabelEncoder()\n",
    "df['avg_rms_error'] = le.fit_transform(df['avg_rms_error'])\n",
    "X = df.drop(columns=['id', 'avg_rms_error'])\n",
    "y = df['avg_rms_error']\n",
    "from sklearn.model_selection import train_test_split\n",
    "x_train, x_test, y_train, y_test = train_test_split(X, y, test_size=0.3, shuffle=True, random_state=69)\n",
    "x_train = sc.fit_transform(x_train)\n",
    "model = load_model('laser_beam_model.h5')\n",
    "affecting_parameter_name = le.classes_\n",
    "\n",
    "\n",
    "# Initialize an empty list to store the captured values\n",
    "captured_values = []\n",
    "\n",
    "# Define a while loop that continues indefinitely\n",
    "while True:\n",
    "    # Prompt the user for input\n",
    "    message = input(\"Enter a value (or type 'done' to finish): \")\n",
    "\n",
    "    # Check if the user wants to exit the loop\n",
    "    if message.lower() == 'done':\n",
    "        break  # Exit the loop if the user types 'done'\n",
    "\n",
    "    # Convert the input value to the appropriate data type and append it to the list\n",
    "    try:\n",
    "        value = float(message)  # Convert input to float\n",
    "        captured_values.append(value)\n",
    "    except ValueError:\n",
    "        print(\"Invalid input. Please enter a valid number.\")\n",
    "\n",
    "# Ensure that exactly four values were captured\n",
    "if len(captured_values) == 4:  # Check if exactly five values were captured\n",
    "    # Assign the captured values to data1, data2, data3, and data4\n",
    "    data1, data2, data3, data4 = captured_values\n",
    "    X_new = np.array([[data1 , data2, data3, data4 ]])\n",
    "    x_test = sc.transform(X_new)\n",
    "    prediction = model.predict(x_test)\n",
    "    prediction = np.argmax(prediction, axis=-1)\n",
    "    error = (affecting_parameter_name[prediction[:1][0]]/0.2853)*14\n",
    "    print(\"Most Affecting Error:\",error,\"%\")\n",
    "    # x1_test = sc.transform([[data1, data2, data3, data4, data5]])\n",
    "    \n",
    "    # Use the model to make predictions\n",
    "    # pred = model.predict([[data1, data2, data3, data4, data5]])\n",
    "    # pred_name = np.argmax(pred, axis=-1)\n",
    "    \n",
    "    # Print the predictions\n",
    "    # print([[data1, data2, data3, data4, data5]].shape())\n",
    "    # print(\"Predictions:\", pred_name)\n",
    "else:\n",
    "    print(\"Please enter exactly five values.\")\n"
   ]
  }
 ],
 "metadata": {
  "kernelspec": {
   "display_name": "detection",
   "language": "python",
   "name": "python3"
  },
  "language_info": {
   "codemirror_mode": {
    "name": "ipython",
    "version": 3
   },
   "file_extension": ".py",
   "mimetype": "text/x-python",
   "name": "python",
   "nbconvert_exporter": "python",
   "pygments_lexer": "ipython3",
   "version": "3.9.18"
  }
 },
 "nbformat": 4,
 "nbformat_minor": 2
}
