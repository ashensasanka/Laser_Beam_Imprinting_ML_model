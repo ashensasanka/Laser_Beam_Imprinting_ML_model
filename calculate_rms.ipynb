{
 "cells": [
  {
   "cell_type": "code",
   "execution_count": 17,
   "metadata": {},
   "outputs": [
    {
     "name": "stdout",
     "output_type": "stream",
     "text": [
      "RMSE values saved as rmse_values.csv\n"
     ]
    }
   ],
   "source": [
    "import numpy as np\n",
    "import pandas as pd\n",
    "\n",
    "# Read the values from CSV file\n",
    "data = pd.read_csv('optical_injection_locking.csv')\n",
    "\n",
    "# Initialize list to store RMSE values\n",
    "rmse_values = []\n",
    "\n",
    "# Extract values of x1, x2, x3, x4 and calculate RMSE for each row\n",
    "for i in range(1708):  # Assuming there are 10 rows in the CSV file\n",
    "    x1 = data['incoming_wavefront_x'].values[i]\n",
    "    x2 = data['incoming_wavefront_y'].values[i]\n",
    "    x3 = data['output_x'].values[i]\n",
    "    x4 = data['output_y'].values[i]\n",
    "    y1 = data['actual_i_x'].values[i]\n",
    "    y2 = data['actual_i_y'].values[i]\n",
    "    y3 = data['actual_output_x'].values[i]\n",
    "    y4 = data['actual_output_y'].values[i]\n",
    "    squared_errors = [(x1 - y1)**2, (x2 - y2)**2, (x3 - y3)**2, (x4 - y4)**2]\n",
    "    mse = np.mean(squared_errors)\n",
    "    rmse = np.sqrt(mse)\n",
    "    \n",
    "    # Append RMSE value to the list\n",
    "    rmse_values.append(rmse)\n",
    "\n",
    "# Create a DataFrame to save RMSE values as CSV\n",
    "df_rmse = pd.DataFrame({'RMSE': rmse_values})\n",
    "\n",
    "# Save DataFrame to CSV\n",
    "df_rmse.to_csv('rmse_values.csv', index=False)\n",
    "\n",
    "print(\"RMSE values saved as rmse_values.csv\")\n"
   ]
  }
 ],
 "metadata": {
  "kernelspec": {
   "display_name": "detection",
   "language": "python",
   "name": "python3"
  },
  "language_info": {
   "codemirror_mode": {
    "name": "ipython",
    "version": 3
   },
   "file_extension": ".py",
   "mimetype": "text/x-python",
   "name": "python",
   "nbconvert_exporter": "python",
   "pygments_lexer": "ipython3",
   "version": "3.9.18"
  }
 },
 "nbformat": 4,
 "nbformat_minor": 2
}
